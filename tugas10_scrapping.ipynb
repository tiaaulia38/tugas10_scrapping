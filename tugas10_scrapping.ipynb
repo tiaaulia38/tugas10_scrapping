{
  "nbformat": 4,
  "nbformat_minor": 0,
  "metadata": {
    "colab": {
      "provenance": [],
      "authorship_tag": "ABX9TyNxSnYrRz4fGZaKaIyX0BfW",
      "include_colab_link": true
    },
    "kernelspec": {
      "name": "python3",
      "display_name": "Python 3"
    },
    "language_info": {
      "name": "python"
    }
  },
  "cells": [
    {
      "cell_type": "markdown",
      "metadata": {
        "id": "view-in-github",
        "colab_type": "text"
      },
      "source": [
        "<a href=\"https://colab.research.google.com/github/tiaaulia38/tugas10_scrapping/blob/main/tugas10_scrapping.ipynb\" target=\"_parent\"><img src=\"https://colab.research.google.com/assets/colab-badge.svg\" alt=\"Open In Colab\"/></a>"
      ]
    },
    {
      "cell_type": "code",
      "source": [
        "import requests\n",
        "from bs4 import BeautifulSoup\n",
        "import pandas as pd\n",
        "\n",
        "url = \"http://books.toscrape.com/\"\n",
        "response = requests.get(url)\n",
        "soup = BeautifulSoup(response.text, \"html.parser\")\n",
        "\n",
        "books = []\n",
        "for book in soup.find_all(\"article\", class_=\"product_pod\"):\n",
        "    title = book.h3.a[\"title\"]\n",
        "    price = book.find(\"p\", class_=\"price_color\").text\n",
        "    rating = book.p[\"class\"][1]\n",
        "    books.append({\"Title\": title, \"Price\": price, \"Rating\": rating})\n",
        "\n",
        "# Menyimpan data ke CSV\n",
        "df = pd.DataFrame(books)\n",
        "df.to_csv(\"books.csv\", index=False)"
      ],
      "metadata": {
        "id": "KGu2lTZI4C5H"
      },
      "execution_count": null,
      "outputs": []
    },
    {
      "cell_type": "markdown",
      "source": [
        "# Scrapping with API"
      ],
      "metadata": {
        "id": "QHdwmUPJ3ysF"
      }
    },
    {
      "cell_type": "code",
      "source": [
        "import requests\n",
        "import csv"
      ],
      "metadata": {
        "id": "gBXf659gplMb"
      },
      "execution_count": null,
      "outputs": []
    },
    {
      "cell_type": "code",
      "source": [
        "# URL API untuk daftar provinsi\n",
        "url = \"https://dev.farizdotid.com/api/daerahindonesia/provinsi\"\n",
        "\n",
        "# Mendapatkan data dari API\n",
        "response = requests.get(url)\n",
        "response = response.json()\n",
        "list_provinsi = response['provinsi']  # Mendapatkan daftar provinsi"
      ],
      "metadata": {
        "id": "f_Zvd-QczY0_"
      },
      "execution_count": null,
      "outputs": []
    },
    {
      "cell_type": "code",
      "source": [
        "# Menyimpan data ke CSV\n",
        "with open('/content/sample_data/provinsi_data.csv', 'w', newline='', encoding='utf-8') as csv_file:\n",
        "    csv_writer = csv.writer(csv_file)\n",
        "    headers = ['ID Provinsi', 'Nama Provinsi']  # Nama kolom CSV\n",
        "    csv_writer.writerow(headers)  # Menulis header ke CSV\n",
        "\n",
        "    # Menulis setiap item dalam daftar provinsi ke CSV\n",
        "    for provinsi in list_provinsi:\n",
        "        csv_writer.writerow([provinsi['id'], provinsi['nama']])  # Menulis baris data"
      ],
      "metadata": {
        "id": "xuMs6kq90iy7"
      },
      "execution_count": null,
      "outputs": []
    }
  ]
}